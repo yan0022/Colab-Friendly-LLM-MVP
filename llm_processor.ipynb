{
 "cells": [
  {
   "cell_type": "code",
   "execution_count": null,
   "metadata": {},
   "outputs": [],
   "source": [
    "import pandas as pd\n",
    "import seaborn as sns\n",
    "import torch\n",
    "from transformers import AutoTokenizer, AutoModelForCausalLM\n",
    "from tqdm import tqdm\n",
    "import time"
   ]
  },
  {
   "cell_type": "code",
   "execution_count": null,
   "metadata": {},
   "outputs": [],
   "source": [
    "model_name = \"Qwen/Qwen2.5-3B-Instruct\"\n",
    "tokenizer = AutoTokenizer.from_pretrained(model_name)\n",
    "model = AutoModelForCausalLM.from_pretrained(model_name)\n",
    "print(model_name)"
   ]
  },
  {
   "cell_type": "code",
   "execution_count": 10,
   "metadata": {},
   "outputs": [],
   "source": [
    "def llm_processor_foreigner(text):\n",
    "  prompt = f\":Pick up technology stack in messages and return as python list like ['aws', 'python', 'sql']. Your message is: {text}\"\n",
    "  messages = [\n",
    "    {\"role\": \"user\", \"content\": prompt},\n",
    "    {\"role\": \"system\", \"content\": \"You are an assistant. Pick up technology stack in messages and return as python list.\"}\n",
    "  ]\n",
    "  input_text = tokenizer.apply_chat_template(messages, tokenize = False, add_generation_prompt = True)\n",
    "  model_inputs = tokenizer([input_text], return_tensors = \"pt\").to(model.device)\n",
    "  with torch.no_grad(): generated_ids = model.generate(**model_inputs, max_new_tokens = 50)\n",
    "  generated_text = tokenizer.decode(generated_ids[0], skip_special_tokens = True)\n",
    "  generated_text = generated_text.split(\"assistant\",1)[1].strip()\n",
    "  return generated_text"
   ]
  },
  {
   "cell_type": "code",
   "execution_count": 14,
   "metadata": {},
   "outputs": [
    {
     "name": "stdout",
     "output_type": "stream",
     "text": [
      ".\n",
      "user\n",
      ":Pick up technology stack in messages and return as python list like ['aws', 'python', 'sql']. Your message is: We are looking for a Python developer with github experience.\n",
      "system\n",
      "You are an assistant. Pick up technology stack in messages and return as python list.\n",
      "assistant\n",
      "['python', 'git']\n"
     ]
    }
   ],
   "source": [
    "result = llm_processor_foreigner(\"We are looking for a Python developer with github experience.\")\n",
    "print(result)"
   ]
  }
 ],
 "metadata": {
  "kernelspec": {
   "display_name": "python312",
   "language": "python",
   "name": "python3"
  },
  "language_info": {
   "codemirror_mode": {
    "name": "ipython",
    "version": 3
   },
   "file_extension": ".py",
   "mimetype": "text/x-python",
   "name": "python",
   "nbconvert_exporter": "python",
   "pygments_lexer": "ipython3",
   "version": "3.12.4"
  }
 },
 "nbformat": 4,
 "nbformat_minor": 2
}
